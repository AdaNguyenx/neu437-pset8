{
 "cells": [
  {
   "cell_type": "code",
   "execution_count": 1,
   "metadata": {
    "collapsed": true
   },
   "outputs": [],
   "source": [
    "# import packages\n",
    "import numpy as np\n",
    "import matplotlib.pyplot as plt\n",
    "import random\n",
    "from IPython import display\n",
    "import time\n",
    "import copy\n",
    "import random\n",
    "from sklearn.decomposition import PCA"
   ]
  },
  {
   "cell_type": "code",
   "execution_count": 2,
   "metadata": {
    "collapsed": true
   },
   "outputs": [],
   "source": [
    "# constants\n",
    "beta = 4"
   ]
  },
  {
   "cell_type": "code",
   "execution_count": 3,
   "metadata": {
    "collapsed": true
   },
   "outputs": [],
   "source": [
    "# creating memories\n",
    "memory_1 = np.ones([10, 10])\n",
    "memory_2 = np.ones([10, 10])\n",
    "memory_3 = np.ones([10, 10])\n",
    "memory_1[3, :] = -1.0\n",
    "memory_1[:, 3] = -1.0\n",
    "memory_2[5:7, 5:7] = -1.0\n",
    "memory_3[0, :] = -1.0\n",
    "memory_3[9, :] = -1.0\n",
    "memory_3[:, 0] = -1.0\n",
    "memory_3[:, 9] = -1.0"
   ]
  },
  {
   "cell_type": "code",
   "execution_count": 4,
   "metadata": {
    "collapsed": true
   },
   "outputs": [],
   "source": [
    "# all functions\n",
    "# add a memory to weight\n",
    "def weight_update(memory, w):\n",
    "    for i in range(100):\n",
    "        for j in range(100):\n",
    "            w[i, j] += memory[i]*memory[j]\n",
    "    np.fill_diagonal(w, 0)\n",
    "    \n",
    "# inverse of activation function\n",
    "def f_inverse(firing):\n",
    "    return np.arctanh(firing)/beta\n",
    "\n",
    "# activation function\n",
    "def f(potential):\n",
    "    return np.tanh(beta*potential)\n",
    "\n",
    "# time derivative of membrane potential\n",
    "def derivative(potential, firing, w):\n",
    "    derivative = np.zeros(100)\n",
    "    for i in range(100):\n",
    "        derivative[i] = -potential[i] + np.dot(w[i, :], firing)\n",
    "    return derivative\n",
    "\n",
    "# memory recovery simulation\n",
    "def simulate(dt, timesteps, firing, potential, w):\n",
    "    potential_flat = potential.flatten()\n",
    "    firing_flat = firing.flatten()\n",
    "    i = 0\n",
    "    while i < timesteps:\n",
    "        potential_flat += dt*derivative(potential_flat, firing_flat, w)\n",
    "        firing_flat = f(potential_flat)\n",
    "        i += 1\n",
    "    return firing_flat\n",
    "\n",
    "# simulate and plot for question 2\n",
    "def simulate_and_plot(dt, timesteps, firing, potential, w, original, pc1):\n",
    "    potential_flat = potential.flatten()\n",
    "    firing_flat = firing.flatten()\n",
    "    i = 0\n",
    "    projection = np.zeros(timesteps)\n",
    "    while i < timesteps:\n",
    "        potential_flat += dt*derivative(potential_flat, firing_flat, w)\n",
    "        firing_flat = f(potential_flat)\n",
    "        projection[i] = np.dot(firing_flat, pc1)\n",
    "        line, = plt.plot(projection[:i], 'go')\n",
    "        display.clear_output(wait=True)\n",
    "        display.display(plt.gcf())\n",
    "        time.sleep(1.0)\n",
    "        i += 1\n",
    "    memory_converge = np.linalg.norm(firing_flat - original.flatten())\n",
    "    mirror_converge = np.linalg.norm(firing_flat + original.flatten())\n",
    "    if memory_converge < mirror_converge:\n",
    "        line.set_color('b')\n",
    "        display.clear_output(wait=True)\n",
    "        display.display(plt.gcf())\n",
    "        time.sleep(1.0)\n",
    "    else:\n",
    "        line.set_color('r')\n",
    "        display.clear_output(wait=True)\n",
    "        display.display(plt.gcf())\n",
    "        time.sleep(1.0)\n",
    "    \n",
    "        \n",
    "# add random memory to weight\n",
    "def add_random_memory(number, w):\n",
    "    for i in range(number):\n",
    "        random_memory = np.random.uniform(-1, 1.0000001, [10, 10])\n",
    "        random_memory[np.where(random_memory < 0)] = -1.0\n",
    "        random_memory[np.where(random_memory > 0)] = 1.0\n",
    "        weight_update(random_memory.flatten(), w)"
   ]
  },
  {
   "cell_type": "code",
   "execution_count": 5,
   "metadata": {
    "collapsed": false
   },
   "outputs": [],
   "source": [
    "# build network with memory 2\n",
    "weight_1 = np.zeros([100, 100])\n",
    "weight_update(memory_2.flatten(), weight_1)"
   ]
  },
  {
   "cell_type": "code",
   "execution_count": 6,
   "metadata": {
    "collapsed": false
   },
   "outputs": [],
   "source": [
    "# recover memory 2 50 times from random initial conditions\n",
    "data_matrix = np.zeros([50, 100])\n",
    "for j in range(50):\n",
    "    random_memory = np.random.uniform(-1, 1, [10, 10])\n",
    "    random_memory_potential = f_inverse(0.9*random_memory)\n",
    "    final_state = simulate(0.001, 30, random_memory, random_memory_potential, weight_1)\n",
    "    data_matrix[j, :] = final_state"
   ]
  },
  {
   "cell_type": "code",
   "execution_count": 7,
   "metadata": {
    "collapsed": false
   },
   "outputs": [
    {
     "data": {
      "image/png": "[encoded data removed]",
      "text/plain": [
       "<matplotlib.figure.Figure at 0x11627b450>"
      ]
     },
     "metadata": {},
     "output_type": "display_data"
    }
   ],
   "source": [
    "pca = PCA()\n",
    "pca.fit(data_matrix)\n",
    "plt.plot(pca.explained_variance_ratio_)\n",
    "plt.show()"
   ]
  },
  {
   "cell_type": "code",
   "execution_count": null,
   "metadata": {
    "collapsed": false
   },
   "outputs": [
    {
     "data": {
      "image/png": "[encoded data removed]",
      "text/plain": [
       "<matplotlib.figure.Figure at 0x116285150>"
      ]
     },
     "metadata": {},
     "output_type": "display_data"
    }
   ],
   "source": [
    "pc1_unit = pca.components_[0]/np.linalg.norm(pca.components_[0])\n",
    "for k in range(20):\n",
    "    random_memory = np.random.uniform(-1, 1, [10, 10])\n",
    "    random_memory_potential = f_inverse(0.9*random_memory)\n",
    "    simulate_and_plot(0.001, 75, random_memory, random_memory_potential, weight_1, memory_2, pc1_unit)\n",
    "    k +=1\n",
    "plt.xlabel('Timesteps')\n",
    "plt.ylabel('PC1')"
   ]
  },
  {
   "cell_type": "code",
   "execution_count": 14,
   "metadata": {
    "collapsed": false
   },
   "outputs": [],
   "source": [
    "# add memory 3 to network\n",
    "weight_update(memory_3.flatten(), weight_1)"
   ]
  },
  {
   "cell_type": "code",
   "execution_count": null,
   "metadata": {
    "collapsed": true
   },
   "outputs": [],
   "source": [
    "# simulate the network 50 times from random initial conditions\n",
    "data_matrix2 = np.zeros([50, 100])\n",
    "for j in range(50):\n",
    "    random_memory = np.random.uniform(-1, 1, [10, 10])\n",
    "    random_memory_potential = f_inverse(0.9*random_memory)\n",
    "    final_state = simulate(0.001, 30, random_memory, random_memory_potential, weight_1)\n",
    "    data_matrix2[j, :] = final_state"
   ]
  },
  {
   "cell_type": "code",
   "execution_count": null,
   "metadata": {
    "collapsed": true
   },
   "outputs": [],
   "source": [
    "pca2 = PCA()\n",
    "pca2.fit(data_matrix2)\n",
    "plt.clf()\n",
    "plt.plot(pca2.explained_variance_ratio_)\n",
    "plt.show()"
   ]
  },
  {
   "cell_type": "code",
   "execution_count": null,
   "metadata": {
    "collapsed": true
   },
   "outputs": [],
   "source": []
  }
 ],
 "metadata": {
  "kernelspec": {
   "display_name": "Python 2",
   "language": "python",
   "name": "python2"
  },
  "language_info": {
   "codemirror_mode": {
    "name": "ipython",
    "version": 2
   },
   "file_extension": ".py",
   "mimetype": "text/x-python",
   "name": "python",
   "nbconvert_exporter": "python",
   "pygments_lexer": "ipython2",
   "version": "2.7.13"
  }
 },
 "nbformat": 4,
 "nbformat_minor": 2
}
