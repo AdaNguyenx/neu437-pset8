{
 "cells": [
  {
   "cell_type": "code",
   "execution_count": 1,
   "metadata": {
    "collapsed": true
   },
   "outputs": [],
   "source": [
    "# import packages\n",
    "import numpy as np\n",
    "import matplotlib.pyplot as plt\n",
    "import random\n",
    "from IPython import display\n",
    "import time\n",
    "import copy\n",
    "import random"
   ]
  },
  {
   "cell_type": "code",
   "execution_count": 2,
   "metadata": {
    "collapsed": true
   },
   "outputs": [],
   "source": [
    "# constants\n",
    "beta = 4"
   ]
  },
  {
   "cell_type": "code",
   "execution_count": 3,
   "metadata": {
    "collapsed": true
   },
   "outputs": [],
   "source": [
    "# creating memories\n",
    "memory_1 = np.ones([10, 10])\n",
    "memory_2 = np.ones([10, 10])\n",
    "memory_3 = np.ones([10, 10])\n",
    "memory_1[3, :] = -1.0\n",
    "memory_1[:, 3] = -1.0\n",
    "memory_2[5:7, 5:7] = -1.0\n",
    "memory_3[0, :] = -1.0\n",
    "memory_3[9, :] = -1.0\n",
    "memory_3[:, 0] = -1.0\n",
    "memory_3[:, 9] = -1.0"
   ]
  },
  {
   "cell_type": "code",
   "execution_count": 15,
   "metadata": {
    "collapsed": true
   },
   "outputs": [],
   "source": [
    "# all functions\n",
    "# add a memory to weight\n",
    "def weight_update(memory, w):\n",
    "    for i in range(100):\n",
    "        for j in range(100):\n",
    "            w[i, j] += memory[i]*memory[j]\n",
    "    np.fill_diagonal(w, 0)\n",
    "    \n",
    "# inverse of activation function\n",
    "def f_inverse(firing):\n",
    "    return np.arctanh(firing)/beta\n",
    "\n",
    "# activation function\n",
    "def f(potential):\n",
    "    return np.tanh(beta*potential)\n",
    "\n",
    "# time derivative of membrane potential\n",
    "def derivative(potential, firing, w):\n",
    "    derivative = np.zeros(100)\n",
    "    for i in range(100):\n",
    "        derivative[i] = -potential[i] + np.dot(w[i, :], firing)\n",
    "    return derivative\n",
    "\n",
    "# memory recovery simulation\n",
    "def simulate(dt, timesteps, firing, potential, w, original):\n",
    "    potential_flat = potential.flatten()\n",
    "    firing_flat = firing.flatten()\n",
    "    i = 0\n",
    "    while i < timesteps:\n",
    "        potential_flat += dt*derivative(potential_flat, firing_flat, w)\n",
    "        firing_flat = f(potential_flat)\n",
    "    return firing_flat\n",
    "        \n",
    "# add random memory to weight\n",
    "def add_random_memory(number, w):\n",
    "    for i in range(number):\n",
    "        random_memory = np.random.uniform(-1, 1.0000001, [10, 10])\n",
    "        random_memory[np.where(random_memory < 0)] = -1.0\n",
    "        random_memory[np.where(random_memory > 0)] = 1.0\n",
    "        weight_update(random_memory.flatten(), w)"
   ]
  },
  {
   "cell_type": "code",
   "execution_count": 8,
   "metadata": {
    "collapsed": false
   },
   "outputs": [
    {
     "data": {
      "image/png": "[encoded data removed]",
      "text/plain": [
       "<matplotlib.figure.Figure at 0x1107a1490>"
      ]
     },
     "metadata": {},
     "output_type": "display_data"
    }
   ],
   "source": [
    "weight_1 = np.zeros([100, 100])\n",
    "weight_update(memory_2.flatten(), weight_1)\n",
    "plt.imshow(weight_1)\n",
    "plt.show()"
   ]
  },
  {
   "cell_type": "code",
   "execution_count": 12,
   "metadata": {
    "collapsed": true
   },
   "outputs": [],
   "source": [
    "memory_2_corrupt = copy.deepcopy(memory_2)\n",
    "memory_2_corrupt[3:7,:] = np.random.uniform(-1, 1, [4, 10])\n",
    "memory_2_potential = f_inverse(0.9*memory_2_corrupt)"
   ]
  },
  {
   "cell_type": "code",
   "execution_count": null,
   "metadata": {
    "collapsed": false
   },
   "outputs": [],
   "source": [
    "# recover memory 2 50 times\n",
    "data_matrix = np.zeros([50, 100])\n",
    "for i in range(50):\n",
    "    final_state = simulate(0.001, 30, memory_2_corrupt, memory_2_potential, weight_1, memory_2)\n",
    "    data_matrix[i, :] = final_state"
   ]
  },
  {
   "cell_type": "markdown",
   "metadata": {},
   "source": [
    "All the memories eventually return to the correct memory."
   ]
  },
  {
   "cell_type": "code",
   "execution_count": null,
   "metadata": {
    "collapsed": false
   },
   "outputs": [],
   "source": [
    "# Adding random memory to weight\n",
    "weight_2 = copy.deepcopy(weight_1)\n",
    "add_random_memory(13, weight_2)\n",
    "plt.imshow(weight_2)\n",
    "plt.show()"
   ]
  },
  {
   "cell_type": "code",
   "execution_count": null,
   "metadata": {
    "collapsed": false
   },
   "outputs": [],
   "source": [
    "# recover memory 1 with new weight\n",
    "simulate(0.005, 50, memory_1_corrupt, memory_1_potential, weight_2, memory_1)"
   ]
  },
  {
   "cell_type": "code",
   "execution_count": null,
   "metadata": {
    "collapsed": false
   },
   "outputs": [],
   "source": [
    "# recover memory 1 with new weight\n",
    "simulate(0.01, 50, memory_2_corrupt, memory_2_potential, weight_2, memory_2)"
   ]
  },
  {
   "cell_type": "code",
   "execution_count": null,
   "metadata": {
    "collapsed": false
   },
   "outputs": [],
   "source": [
    "# recover memory 3 with new weight\n",
    "simulate(0.0025, 50, memory_3_corrupt, memory_3_potential, weight_2, memory_3)"
   ]
  }
 ],
 "metadata": {
  "kernelspec": {
   "display_name": "Python 2",
   "language": "python",
   "name": "python2"
  },
  "language_info": {
   "codemirror_mode": {
    "name": "ipython",
    "version": 2
   },
   "file_extension": ".py",
   "mimetype": "text/x-python",
   "name": "python",
   "nbconvert_exporter": "python",
   "pygments_lexer": "ipython2",
   "version": "2.7.13"
  }
 },
 "nbformat": 4,
 "nbformat_minor": 2
}
